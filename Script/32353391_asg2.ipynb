{
 "cells": [
  {
   "cell_type": "code",
   "execution_count": 1,
   "id": "6317ae46",
   "metadata": {},
   "outputs": [],
   "source": [
    "#import library\n",
    "import re\n",
    "import numpy as np\n",
    "import pandas as pd\n",
    "import matplotlib.pyplot as plt\n",
    "import matplotlib.ticker as mtick"
   ]
  },
  {
   "cell_type": "code",
   "execution_count": 2,
   "id": "df1cbd26",
   "metadata": {},
   "outputs": [],
   "source": [
    "#Task1\n",
    "\n",
    "#read the text file\n",
    "with open('input_script.txt') as original:\n",
    "    line = original.read()\n"
   ]
  },
  {
   "cell_type": "code",
   "execution_count": 3,
   "id": "c1ea1080",
   "metadata": {},
   "outputs": [],
   "source": [
    "class Format:\n",
    "    def __init__(self,data):\n",
    "        self.data = data\n",
    "        \n",
    "    def extract(self,pattern):\n",
    "        cleaned = re.findall(pattern, self.data) #extract particular pattern\n",
    "        return cleaned\n",
    "    \n",
    "    def substitute(self,pattern,repl):\n",
    "        removed = re.sub(pattern,repl, self.data) #substitute particular pattern\n",
    "        return removed\n",
    "        \n",
    "    def remove_symbol(self, target, replace):\n",
    "        for i in range(len(self.data)):\n",
    "            self.data[i] = self.data[i].replace(target, replace) #remove target symbol\n",
    "        return self.data\n",
    "        "
   ]
  },
  {
   "cell_type": "code",
   "execution_count": 4,
   "id": "b8a29832",
   "metadata": {},
   "outputs": [],
   "source": [
    "#extract the dialogues\n",
    "fline = Format(line)\n",
    "fline = fline.extract('.*:.*')\n",
    "fline ='\\n'.join(fline)\n",
    "#print(fline)\n",
    "\n",
    "#remove the other meta data\n",
    "remove_meta = Format(fline)\n",
    "remove_meta = remove_meta.substitute('\\(.*?\\)|\\[.*?\\]|.*by:.*', '')\n",
    "#print(remove_meta.strip())\n"
   ]
  },
  {
   "cell_type": "code",
   "execution_count": 5,
   "id": "bd767add",
   "metadata": {},
   "outputs": [],
   "source": [
    "#return a list of tuples\n",
    "#extract character name and add them into a list\n",
    "ext_char = Format(remove_meta.lower())\n",
    "ext_char = ext_char.extract('.*:')\n",
    "\n",
    "#remove ':' from extracted name\n",
    "dirty_ext_char = Format(ext_char)\n",
    "cleaned_ext_char = dirty_ext_char.remove_symbol(':', '')\n",
    "\n",
    "    \n",
    "#print(cleaned_ext_char)"
   ]
  },
  {
   "cell_type": "code",
   "execution_count": 6,
   "id": "e7659d1e",
   "metadata": {},
   "outputs": [],
   "source": [
    "#extract the corresponding dialogue\n",
    "ext_dia = Format(remove_meta)\n",
    "ext_dia = ext_dia.extract(':.*')\n",
    "\n",
    "#remove ':' from extracted dialogue\n",
    "dirty_ext_dia = Format(ext_dia)\n",
    "cleaned_ext_dia = dirty_ext_dia.remove_symbol(': ', '')\n",
    "\n",
    "#print(cleaned_ext_dia)"
   ]
  },
  {
   "cell_type": "code",
   "execution_count": 7,
   "id": "54ed8a71",
   "metadata": {},
   "outputs": [],
   "source": [
    "ls_dia = list(zip(cleaned_ext_char, cleaned_ext_dia))\n",
    "#print(ls_dia)\n"
   ]
  },
  {
   "cell_type": "code",
   "execution_count": 8,
   "id": "6a02caa3",
   "metadata": {},
   "outputs": [],
   "source": [
    "with open('32353391_clean_dialogue.txt','w') as cd:\n",
    "    cd.write(str(ls_dia))"
   ]
  },
  {
   "cell_type": "code",
   "execution_count": null,
   "id": "7b5e8d81",
   "metadata": {},
   "outputs": [],
   "source": [
    "#Task2"
   ]
  },
  {
   "cell_type": "code",
   "execution_count": 9,
   "id": "1a2c8199",
   "metadata": {},
   "outputs": [],
   "source": [
    "class Character:\n",
    "    def __init__(self, character):\n",
    "        self.character = character\n",
    "        self.dialogue = []\n",
    "    \n",
    "    def get_dialogue(self):\n",
    "        for i in range(len(ls_dia)):\n",
    "            if self.character in ls_dia[i][0]: #match the character name in the tuples\n",
    "                self.dialogue.append(ls_dia[i][1].strip()) #add the dialogue of that character into a list\n",
    "        return '\\n'.join(self.dialogue)\n",
    "    \n",
    "    def export_file(self):\n",
    "        fn = str('32353391_'+self.character+'.txt')\n",
    "        with open(fn,'w') as f:\n",
    "            f.write(str('\\n'.join(self.dialogue)))\n",
    "            \n",
    "    def get_count(self):\n",
    "        fname = '32353391_'+self.character+'.txt'\n",
    "        with open(fname) as f:\n",
    "            f2line = f.read()\n",
    "            f2line = re.sub('[^\\w\\s]','', f2line) #remove all punctuation\n",
    "            f2line = f2line.split() #measure for word count\n",
    "\n",
    "        if int(len(set(f2line))) > 100: #only for character has sopken more than 100 words\n",
    "\n",
    "            with open(fname) as f:\n",
    "                fline = f.readlines()\n",
    "\n",
    "            for i in range(len(fline)):\n",
    "                fline[i] = re.sub('[^\\w\\s]','', fline[i]) #remove all punctuation\n",
    "                fline[i] = fline[i].strip().lower()\n",
    "                fline[i] = fline[i].split()\n",
    "                fline[i] = list(set(fline[i])) #for each line of dialogue, remove duplicated words\n",
    "\n",
    "            value_count = {}\n",
    "            #use a dictionary to store the number that the word appeared\n",
    "            for i in fline:\n",
    "                for j in i:\n",
    "                    if j in value_count.keys():\n",
    "                        value_count[j] += 1 #count + 1 if the word match the key in dictionary\n",
    "                    else:\n",
    "                        value_count[j] = 1\n",
    "                        \n",
    "            # sort the dictionary based on the value\n",
    "            value_count = sorted(value_count.items(), key=lambda x: x[1], reverse = True)\n",
    "\n",
    "            max_word = list(value_count[0:5]) #get the top 5 number of word count\n",
    "        else:\n",
    "            max_word = [] #return empty list for characters who has spoken less than 100 words\n",
    "\n",
    "        return max_word\n",
    "\n",
    "\n",
    "    "
   ]
  },
  {
   "cell_type": "code",
   "execution_count": 10,
   "id": "95616d9c",
   "metadata": {},
   "outputs": [
    {
     "name": "stdout",
     "output_type": "stream",
     "text": [
      "['monica', \"joey's look-a-like\", 'the instructor', 'the doctor', 'chandler', 'ross', 'carl', 'phoebe', 'joey', 'receptionist', 'janice', 'janice voice', 'phoebe and rachel', 'gunther', 'rachel']\n"
     ]
    }
   ],
   "source": [
    "#create a list of character\n",
    "characters = list(set(cleaned_ext_char))\n",
    "print(characters)"
   ]
  },
  {
   "cell_type": "code",
   "execution_count": 11,
   "id": "cc0e1bc8",
   "metadata": {},
   "outputs": [],
   "source": [
    "#get the dialogue of each character and export to a file\n",
    "for i in range(len(characters)):\n",
    "    char_name = characters[i] #set the character name into a variavle\n",
    "    char_name = Character(char_name) \n",
    "    char_name_f = char_name.get_dialogue() #for each character get the dialogue\n",
    "    char_name.export_file()\n"
   ]
  },
  {
   "cell_type": "code",
   "execution_count": null,
   "id": "074d2187",
   "metadata": {},
   "outputs": [],
   "source": [
    "#Task3"
   ]
  },
  {
   "cell_type": "code",
   "execution_count": 12,
   "id": "13bce508",
   "metadata": {},
   "outputs": [
    {
     "name": "stdout",
     "output_type": "stream",
     "text": [
      "[['monica', 'you', 14], ['monica', 'to', 10], ['monica', 'i', 10], ['monica', 'the', 9], ['monica', 'okay', 9], ['chandler', 'i', 20], ['chandler', 'you', 13], ['chandler', 'to', 12], ['chandler', 'the', 10], ['chandler', 'a', 9], ['ross', 'i', 15], ['ross', 'you', 15], ['ross', 'a', 11], ['ross', 'what', 10], ['ross', 'of', 8], ['phoebe', 'is', 5], ['phoebe', 'a', 4], ['phoebe', 'we', 4], ['phoebe', 'you', 4], ['phoebe', 'it', 3], ['joey', 'i', 11], ['joey', 'of', 10], ['joey', 'the', 8], ['joey', 'you', 8], ['joey', 'to', 7], ['rachel', 'a', 8], ['rachel', 'i', 7], ['rachel', 'that', 5], ['rachel', 'it', 3], ['rachel', 'of', 3]]\n"
     ]
    }
   ],
   "source": [
    "#get the top 5 word count for each character by using the get_count method in character class\n",
    "character_word = []\n",
    "final_char = []\n",
    "for i in range(len(characters)):\n",
    "    char_name = characters[i].lower()\n",
    "    char_word = Character(char_name)\n",
    "    char_word = char_word.get_count() #get the top 5 word count for each character\n",
    "    \n",
    "    #insert the corresponding character name into each tuple\n",
    "    for j in range(len(char_word)):\n",
    "        a = list(char_word[j])\n",
    "        a.insert(0,char_name)\n",
    "        character_word.append(a)\n",
    "        final_char.append(char_name) #get the character who has spoken more than 100 words\n",
    "\n",
    "\n",
    "print(character_word)\n"
   ]
  },
  {
   "cell_type": "code",
   "execution_count": 19,
   "id": "cefe2250",
   "metadata": {},
   "outputs": [],
   "source": [
    "final_char = list(set(final_char)) #get the unique character name to use it later"
   ]
  },
  {
   "cell_type": "code",
   "execution_count": 20,
   "id": "9fc677d5",
   "metadata": {},
   "outputs": [
    {
     "name": "stdout",
     "output_type": "stream",
     "text": [
      "        Name  Word  Frequency\n",
      "0     monica   you         14\n",
      "1     monica    to         10\n",
      "2     monica     i         10\n",
      "3     monica   the          9\n",
      "4     monica  okay          9\n",
      "5   chandler     i         20\n",
      "6   chandler   you         13\n",
      "7   chandler    to         12\n",
      "8   chandler   the         10\n",
      "9   chandler     a          9\n",
      "10      ross     i         15\n",
      "11      ross   you         15\n",
      "12      ross     a         11\n",
      "13      ross  what         10\n",
      "14      ross    of          8\n",
      "15    phoebe    is          5\n",
      "16    phoebe     a          4\n",
      "17    phoebe    we          4\n",
      "18    phoebe   you          4\n",
      "19    phoebe    it          3\n",
      "20      joey     i         11\n",
      "21      joey    of         10\n",
      "22      joey   the          8\n",
      "23      joey   you          8\n",
      "24      joey    to          7\n",
      "25    rachel     a          8\n",
      "26    rachel     i          7\n",
      "27    rachel  that          5\n",
      "28    rachel    it          3\n",
      "29    rachel    of          3\n"
     ]
    }
   ],
   "source": [
    "#create 1 table for all data\n",
    "final_table = pd.DataFrame(character_word,columns=['Name','Word','Frequency'])\n",
    "print(final_table)"
   ]
  },
  {
   "cell_type": "code",
   "execution_count": 15,
   "id": "0d75b32c",
   "metadata": {},
   "outputs": [],
   "source": [
    "final_table.to_csv('32353391_data.csv') #turn the dataframe into a csv file"
   ]
  },
  {
   "cell_type": "code",
   "execution_count": null,
   "id": "d1f36198",
   "metadata": {},
   "outputs": [],
   "source": [
    "#Task4"
   ]
  },
  {
   "cell_type": "code",
   "execution_count": 16,
   "id": "c09dbc73",
   "metadata": {},
   "outputs": [
    {
     "name": "stdout",
     "output_type": "stream",
     "text": [
      "['monica', 'chandler', 'phoebe', 'joey', 'ross', 'rachel']\n"
     ]
    }
   ],
   "source": [
    "print(final_char)"
   ]
  },
  {
   "cell_type": "code",
   "execution_count": 17,
   "id": "a25d0379",
   "metadata": {},
   "outputs": [],
   "source": [
    "#group the data by character name and format to a pivot table for each character, then store them in a list\n",
    "grouped = final_table.groupby(final_table.Name) #table group by name column\n",
    "\n",
    "plot_ls = [] #get the list of plot\n",
    "for i in range(len(final_char)):\n",
    "    char_name = final_char[i].lower()\n",
    "    char_table = grouped.get_group(char_name) #get a table for each character\n",
    "    char_plot = char_table.pivot(index='Name', columns = 'Word', values = 'Frequency') #turn it into pivot table\n",
    "    plot_ls.append(char_plot)\n",
    "\n",
    "\n"
   ]
  },
  {
   "cell_type": "code",
   "execution_count": 18,
   "id": "d863510c",
   "metadata": {
    "scrolled": true
   },
   "outputs": [
    {
     "data": {
      "image/png": "[encoded data removed]",
      "text/plain": [
       "<Figure size 1080x720 with 6 Axes>"
      ]
     },
     "metadata": {
      "needs_background": "light"
     },
     "output_type": "display_data"
    }
   ],
   "source": [
    "#construct the big picture of the plot\n",
    "nrow=2\n",
    "ncol=3\n",
    "fig, axes = plt.subplots(nrow, ncol,figsize=(15,10)) #build the subplot with 2 row and 3 column\n",
    "\n",
    "count=0 #for later iteration\n",
    "\n",
    "#use for loop to plot each subplot\n",
    "for r in range(nrow):\n",
    "    for c in range(ncol):\n",
    "        plot_ls[count].plot(kind='bar', ylabel = 'Frequency',\n",
    "        ax=axes[r,c]).set_title(final_char[count]) #plot for each subplot\n",
    "        ax1 = axes[r,c].set_xticklabels([])#remove bar label\n",
    "        ax2 = axes[r,c].set_xlabel('Word')#add x axis lable\n",
    "        count+=1\n",
    "        \n",
    "plt.suptitle(\"Top 5 Frequently Used Word for Roles Who Have Spoken More Than 100 Words\",fontweight =\"bold\",fontsize = 25)#super title of the plot\n",
    "plt.show() #print the plot"
   ]
  },
  {
   "cell_type": "markdown",
   "id": "16e6ab39",
   "metadata": {},
   "source": [
    "Justify the choice of the graph:\n",
    "\n",
    "-by using bar chart, it clearly shows the number of word appear in each character. Also, the length of bar could provide clear comparison with other words. The amount is compared within each character. Since each character has spoken different amount of words, there is no means to compare with each other. Therefore, the scale of y-axis maybe different for each character. \n",
    "\n",
    "-the legend clearly shows the lable of each bar which represents the particular word. Different colors of each bar also help us to differeniate them easily.\n",
    "\n",
    "-each subplot is grouped by characters and subtitle clearly labelled the character. It will be easier for us to analyse the data.\n",
    "\n",
    "-putting all the subplot in a graph will be easier for us to have a big picture of the whole data."
   ]
  },
  {
   "cell_type": "markdown",
   "id": "a9deb1d0",
   "metadata": {},
   "source": [
    "Provide concise and precise observations:\n",
    "\n",
    "-the most frequently used words include 'a' and 'i' in most of the character\n",
    "\n",
    "-the word 'i', it is the top 2 frequently used word among all the character\n",
    "\n",
    "-most frequently used words are mainly pronoun, such as 'you', 'i' and article, such as 'a', 'the'.\n",
    "\n",
    "-the most frequently use word in the script is 'i' from Chandler, which has appeared 20 times."
   ]
  }
 ],
 "metadata": {
  "kernelspec": {
   "display_name": "Python 3",
   "language": "python",
   "name": "python3"
  },
  "language_info": {
   "codemirror_mode": {
    "name": "ipython",
    "version": 3
   },
   "file_extension": ".py",
   "mimetype": "text/x-python",
   "name": "python",
   "nbconvert_exporter": "python",
   "pygments_lexer": "ipython3",
   "version": "3.8.8"
  }
 },
 "nbformat": 4,
 "nbformat_minor": 5
}
