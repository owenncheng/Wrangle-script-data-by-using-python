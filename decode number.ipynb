{
 "cells": [
  {
   "cell_type": "code",
   "execution_count": 1,
   "id": "e4f8a40c",
   "metadata": {},
   "outputs": [],
   "source": [
    "# Run this code cell to create the variables\n",
    "# mysterious numbers\n",
    "myst_nums = \"\"\"2658 8503 2582 3035 9951 5535 1763 5552 2276 2079 4906 2658 293 2582 3407 786 6164 3279 3825 595 4975\n",
    "===\n",
    "6152 1974 7262 7262 2070 1861 6055 9735 1398 183 7262 7708 3284 4175 2908 8000 9364 4979 2070 1861 6055 9735 8590 4691 4979 8618 4161 9302 4979 7840 7262\n",
    "===\n",
    "3589 3589 9817 5372 7278 3522 2890 7206 8258 2037 8445 1076 7853 5400 8159 4505 8364 8258 1258 2738 4527 8258 2635 6049 5576 6798 9432 9290 4362 8258 6142 978 9198\"\"\"\n",
    "\n",
    "\n",
    "# first look up dictionary\n",
    "dict1 = {6152: 'then', 9302: 'till', 9735: 'much', 1398: 'a', 8618: 'was', 3284: 'out', 7262: 'you', 1974: \"there's\", 4979: 'i', 4161: 'lost', 9364: 'crowds', 1861: 'feel', 7840: 'found', 183: 'stranger', 8590: 'in', 8000: 'the', 6055: 'that', 2070: \"don't\", 4691: 'danger', 4175: 'from', 7708: 'stand', 2908: 'all'}\n",
    "# second look up dictionary\n",
    "dict2 = {3279: 'when', 595: 'none', 2276: 'no', 1763: 'streets', 3407: 'tryna', 3825: \"there's\", 3035: 'fighting', 4906: 'ground', 293: 'just', 5552: 'with', 2582: 'strangers', 2658: \"we're\", 9951: 'in', 5535: 'the', 6164: 'release', 2079: 'common', 4975: 'around', 8503: 'all', 786: 'find'}\n",
    "# third look up dictionary\n",
    "dict3 = {9432: 'me', 3589: 'baby,', 5576: 'baby', 4505: 'not', 6142: 'can', 2738: 'is', 5372: 'you', 9817: \"won't\", 8258: 'i', 8445: 'really', 7853: 'stay', 6798: 'hold', 9198: 'breathe', 7278: 'please', 5400: 'if', 7206: 'me?', 6049: 'you,', 4362: 'so', 3522: 'come', 1258: 'know', 2635: 'need', 8159: \"you're\", 978: 'finally', 1076: 'wanna', 4527: 'that', 2890: 'rescue', 2037: \"don't\", 9290: 'close', 8364: 'all'}"
   ]
  },
  {
   "cell_type": "code",
   "execution_count": 6,
   "id": "ce70c899",
   "metadata": {},
   "outputs": [
    {
     "name": "stdout",
     "output_type": "stream",
     "text": [
      "['2658 8503 2582 3035 9951 5535 1763 5552 2276 2079 4906 2658 293 2582 3407 786 6164 3279 3825 595 4975\\n', '\\n6152 1974 7262 7262 2070 1861 6055 9735 1398 183 7262 7708 3284 4175 2908 8000 9364 4979 2070 1861 6055 9735 8590 4691 4979 8618 4161 9302 4979 7840 7262\\n', '\\n3589 3589 9817 5372 7278 3522 2890 7206 8258 2037 8445 1076 7853 5400 8159 4505 8364 8258 1258 2738 4527 8258 2635 6049 5576 6798 9432 9290 4362 8258 6142 978 9198']\n"
     ]
    }
   ],
   "source": [
    "#split it into a list of 3 items\n",
    "parts = myst_nums.split(\"===\")\n",
    "print(parts)"
   ]
  },
  {
   "cell_type": "code",
   "execution_count": 9,
   "id": "dfa8504f",
   "metadata": {},
   "outputs": [
    {
     "name": "stdout",
     "output_type": "stream",
     "text": [
      "['2658 8503 2582 3035 9951 5535 1763 5552 2276 2079 4906 2658 293 2582 3407 786 6164 3279 3825 595 4975', '6152 1974 7262 7262 2070 1861 6055 9735 1398 183 7262 7708 3284 4175 2908 8000 9364 4979 2070 1861 6055 9735 8590 4691 4979 8618 4161 9302 4979 7840 7262', '3589 3589 9817 5372 7278 3522 2890 7206 8258 2037 8445 1076 7853 5400 8159 4505 8364 8258 1258 2738 4527 8258 2635 6049 5576 6798 9432 9290 4362 8258 6142 978 9198']\n"
     ]
    }
   ],
   "source": [
    "cleaned = []\n",
    "\n",
    "for i in parts:\n",
    "    cleaned.append(i.strip())\n",
    "\n",
    "print(cleaned)"
   ]
  },
  {
   "cell_type": "code",
   "execution_count": 11,
   "id": "f7b24f63",
   "metadata": {},
   "outputs": [
    {
     "name": "stdout",
     "output_type": "stream",
     "text": [
      "[['2658', '8503', '2582', '3035', '9951', '5535', '1763', '5552', '2276', '2079', '4906', '2658', '293', '2582', '3407', '786', '6164', '3279', '3825', '595', '4975'], ['6152', '1974', '7262', '7262', '2070', '1861', '6055', '9735', '1398', '183', '7262', '7708', '3284', '4175', '2908', '8000', '9364', '4979', '2070', '1861', '6055', '9735', '8590', '4691', '4979', '8618', '4161', '9302', '4979', '7840', '7262'], ['3589', '3589', '9817', '5372', '7278', '3522', '2890', '7206', '8258', '2037', '8445', '1076', '7853', '5400', '8159', '4505', '8364', '8258', '1258', '2738', '4527', '8258', '2635', '6049', '5576', '6798', '9432', '9290', '4362', '8258', '6142', '978', '9198']]\n"
     ]
    }
   ],
   "source": [
    "parts = []\n",
    "\n",
    "for i in cleaned:\n",
    "    parts.append(i.split())\n",
    "    \n",
    "print(parts)"
   ]
  },
  {
   "cell_type": "code",
   "execution_count": 12,
   "id": "4dfdfbc8",
   "metadata": {},
   "outputs": [
    {
     "name": "stdout",
     "output_type": "stream",
     "text": [
      "[{786, 6164, 2582, 5535, 2079, 293, 4906, 5552, 8503, 3407, 3279, 595, 3035, 9951, 2658, 1763, 2276, 4975, 3825}, {9735, 6152, 8590, 9364, 2070, 7708, 7840, 6055, 8618, 1974, 183, 8000, 4161, 1861, 4175, 4691, 3284, 9302, 2908, 7262, 4979, 1398}, {3589, 4362, 6798, 5400, 4505, 6049, 7206, 8364, 7853, 4527, 2738, 1076, 3522, 8258, 5576, 2890, 2635, 9290, 978, 9432, 9817, 8159, 1258, 7278, 9198, 2037, 5372, 8445, 6142}]\n"
     ]
    }
   ],
   "source": [
    "unique = []\n",
    "\n",
    "for i in parts:\n",
    "    num_set = set()\n",
    "    for j in i:\n",
    "        num_set.add(int(j))\n",
    "    unique.append(num_set)\n",
    "    \n",
    "print(unique)"
   ]
  },
  {
   "cell_type": "code",
   "execution_count": 25,
   "id": "3c5f19d9",
   "metadata": {},
   "outputs": [
    {
     "name": "stdout",
     "output_type": "stream",
     "text": [
      "[{6152: 'then', 9302: 'till', 9735: 'much', 1398: 'a', 8618: 'was', 3284: 'out', 7262: 'you', 1974: \"there's\", 4979: 'i', 4161: 'lost', 9364: 'crowds', 1861: 'feel', 7840: 'found', 183: 'stranger', 8590: 'in', 8000: 'the', 6055: 'that', 2070: \"don't\", 4691: 'danger', 4175: 'from', 7708: 'stand', 2908: 'all'}, {3279: 'when', 595: 'none', 2276: 'no', 1763: 'streets', 3407: 'tryna', 3825: \"there's\", 3035: 'fighting', 4906: 'ground', 293: 'just', 5552: 'with', 2582: 'strangers', 2658: \"we're\", 9951: 'in', 5535: 'the', 6164: 'release', 2079: 'common', 4975: 'around', 8503: 'all', 786: 'find'}, {9432: 'me', 3589: 'baby,', 5576: 'baby', 4505: 'not', 6142: 'can', 2738: 'is', 5372: 'you', 9817: \"won't\", 8258: 'i', 8445: 'really', 7853: 'stay', 6798: 'hold', 9198: 'breathe', 7278: 'please', 5400: 'if', 7206: 'me?', 6049: 'you,', 4362: 'so', 3522: 'come', 1258: 'know', 2635: 'need', 8159: \"you're\", 978: 'finally', 1076: 'wanna', 4527: 'that', 2890: 'rescue', 2037: \"don't\", 9290: 'close', 8364: 'all'}]\n"
     ]
    }
   ],
   "source": [
    "dicts = [dict1, dict2, dict3]\n",
    "print(dicts)"
   ]
  },
  {
   "cell_type": "code",
   "execution_count": 30,
   "id": "35694f0e",
   "metadata": {},
   "outputs": [
    {
     "name": "stdout",
     "output_type": "stream",
     "text": [
      "[[\"we're\", 'all', 'strangers', 'fighting', 'in', 'the', 'streets', 'with', 'no', 'common', 'ground', \"we're\", 'just', 'strangers', 'tryna', 'find', 'release', 'when', \"there's\", 'none', 'around'], ['then', \"there's\", 'you', 'you', \"don't\", 'feel', 'that', 'much', 'a', 'stranger', 'you', 'stand', 'out', 'from', 'all', 'the', 'crowds', 'i', \"don't\", 'feel', 'that', 'much', 'in', 'danger', 'i', 'was', 'lost', 'till', 'i', 'found', 'you'], ['baby,', 'baby,', \"won't\", 'you', 'please', 'come', 'rescue', 'me?', 'i', \"don't\", 'really', 'wanna', 'stay', 'if', \"you're\", 'not', 'all', 'i', 'know', 'is', 'that', 'i', 'need', 'you,', 'baby', 'hold', 'me', 'close', 'so', 'i', 'can', 'finally', 'breathe']]\n"
     ]
    }
   ],
   "source": [
    "decoded_parts = []\n",
    "for i in range(len(unique)):\n",
    "    for j in dicts:\n",
    "        if not (unique[i] - set(j.keys())):\n",
    "            decoded_num = []\n",
    "            for num in parts[i]:\n",
    "                decoded_num.append(j[int(num)])\n",
    "            decoded_parts.append(decoded_num)\n",
    "\n",
    "print(decoded_parts)"
   ]
  },
  {
   "cell_type": "code",
   "execution_count": 31,
   "id": "ea342086",
   "metadata": {},
   "outputs": [
    {
     "name": "stdout",
     "output_type": "stream",
     "text": [
      "we're all strangers fighting in the streets with no common ground we're just strangers tryna find release when there's none around\n",
      "===\n",
      "then there's you you don't feel that much a stranger you stand out from all the crowds i don't feel that much in danger i was lost till i found you\n",
      "===\n",
      "baby, baby, won't you please come rescue me? i don't really wanna stay if you're not all i know is that i need you, baby hold me close so i can finally breathe\n"
     ]
    }
   ],
   "source": [
    "decoded_strings = []\n",
    "for part in decoded_parts:\n",
    "    decoded_strings.append(' '.join(part))\n",
    "\n",
    "print('\\n===\\n'.join(decoded_strings))"
   ]
  }
 ],
 "metadata": {
  "kernelspec": {
   "display_name": "Python 3 (ipykernel)",
   "language": "python",
   "name": "python3"
  },
  "language_info": {
   "codemirror_mode": {
    "name": "ipython",
    "version": 3
   },
   "file_extension": ".py",
   "mimetype": "text/x-python",
   "name": "python",
   "nbconvert_exporter": "python",
   "pygments_lexer": "ipython3",
   "version": "3.9.7"
  }
 },
 "nbformat": 4,
 "nbformat_minor": 5
}
