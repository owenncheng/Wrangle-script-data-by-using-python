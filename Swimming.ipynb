{
 "cells": [
  {
   "cell_type": "code",
   "execution_count": 2,
   "id": "c50f26f9",
   "metadata": {},
   "outputs": [],
   "source": [
    "class Swimmer:\n",
    "    \n",
    "    def __init__(self):\n",
    "        self.name = input(\"Please enter the name of this swimmer: \") \n",
    "                          \n",
    "    def get_name(self):\n",
    "        return self.name\n",
    "    \n",
    "    def set_name(self):\n",
    "        self.name = input(\"Please enter the name of this swimmer: \")"
   ]
  },
  {
   "cell_type": "code",
   "execution_count": 3,
   "id": "3ac06ad1",
   "metadata": {},
   "outputs": [],
   "source": [
    "from IPython.display import clear_output"
   ]
  },
  {
   "cell_type": "code",
   "execution_count": 4,
   "id": "fb7115ba",
   "metadata": {},
   "outputs": [
    {
     "ename": "SyntaxError",
     "evalue": "invalid syntax (267131037.py, line 8)",
     "output_type": "error",
     "traceback": [
      "\u001b[0;36m  File \u001b[0;32m\"/var/folders/sj/fh_zcg8j52lg5x_t5_2bxz4h0000gn/T/ipykernel_39414/267131037.py\"\u001b[0;36m, line \u001b[0;32m8\u001b[0m\n\u001b[0;31m    clear_output(wait = )\u001b[0m\n\u001b[0m                        ^\u001b[0m\n\u001b[0;31mSyntaxError\u001b[0m\u001b[0;31m:\u001b[0m invalid syntax\n"
     ]
    }
   ],
   "source": [
    "class Pool:\n",
    "    \n",
    "    def __init__(self, dist):\n",
    "        self.dist = dist\n",
    "        \n",
    "    def show_pool(self, progress):\n",
    "        \n",
    "        clear_output(wait = True)\n",
    "        \n",
    "        "
   ]
  },
  {
   "cell_type": "code",
   "execution_count": null,
   "id": "cc655e63",
   "metadata": {},
   "outputs": [],
   "source": []
  }
 ],
 "metadata": {
  "kernelspec": {
   "display_name": "Python 3 (ipykernel)",
   "language": "python",
   "name": "python3"
  },
  "language_info": {
   "codemirror_mode": {
    "name": "ipython",
    "version": 3
   },
   "file_extension": ".py",
   "mimetype": "text/x-python",
   "name": "python",
   "nbconvert_exporter": "python",
   "pygments_lexer": "ipython3",
   "version": "3.9.7"
  }
 },
 "nbformat": 4,
 "nbformat_minor": 5
}
